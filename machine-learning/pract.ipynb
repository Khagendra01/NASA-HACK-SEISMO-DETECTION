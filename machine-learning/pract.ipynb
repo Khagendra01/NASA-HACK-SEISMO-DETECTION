{
 "cells": [
  {
   "cell_type": "code",
   "execution_count": 72,
   "metadata": {},
   "outputs": [],
   "source": [
    "# Import necessary libraries\n",
    "import numpy as np\n",
    "import pandas as pd\n",
    "import os\n",
    "from obspy import read\n",
    "from obspy.signal.filter import bandpass\n",
    "from sklearn.model_selection import train_test_split\n",
    "from sklearn.metrics import classification_report, confusion_matrix\n",
    "from imblearn.over_sampling import RandomOverSampler\n",
    "import tensorflow as tf\n",
    "from tensorflow.keras import layers, models\n",
    "import matplotlib.pyplot as plt\n",
    "from datetime import datetime, timedelta\n",
    "\n",
    "# Set random seed for reproducibility\n",
    "np.random.seed(42)\n",
    "tf.random.set_seed(42)\n",
    "\n",
    "# Define data directories\n",
    "TRAIN_DATA_DIR = './data/training/data/S12_GradeA/'\n",
    "TRAIN_CATALOG_FILE = './data/training/catalogs/apollo12_catalog_GradeA_final.csv'\n",
    "TEST_DATA_DIR = './data/test/data/S16_GradeA/'\n",
    "\n",
    "# Load the training catalog\n",
    "catalog = pd.read_csv(TRAIN_CATALOG_FILE)\n"
   ]
  },
  {
   "cell_type": "code",
   "execution_count": 73,
   "metadata": {},
   "outputs": [
    {
     "name": "stdout",
     "output_type": "stream",
     "text": [
      "Total segments: 168377\n"
     ]
    }
   ],
   "source": [
    "# Function to load seismic data from a file\n",
    "def load_seismic_data(filename, data_dir=TRAIN_DATA_DIR):\n",
    "    mseed_file = os.path.join(data_dir, filename + '.mseed')\n",
    "    st = read(mseed_file)\n",
    "    tr = st[0]\n",
    "    data = tr.data\n",
    "    sampling_rate = tr.stats.sampling_rate\n",
    "    starttime = tr.stats.starttime.datetime\n",
    "    return data, sampling_rate, starttime\n",
    "\n",
    "# Prepare lists to hold data and labels\n",
    "X = []\n",
    "y = []\n",
    "\n",
    "# Parameters for data segmentation\n",
    "WINDOW_SIZE = 1024  # Number of samples per segment (adjust as needed)\n",
    "STEP_SIZE = 256     # Step size for sliding window (adjust as needed)\n",
    "EVENT_WINDOW_LABEL = 1\n",
    "NO_EVENT_WINDOW_LABEL = 0\n",
    "\n",
    "# Bandpass filter parameters (adjust as needed)\n",
    "FREQ_MIN = 0.5  # Hz\n",
    "FREQ_MAX = 2.0  # Hz\n",
    "\n",
    "# Load data and labels\n",
    "for idx, row in catalog.iterrows():\n",
    "    filename = row['filename']\n",
    "    arrival_time_rel = row['time_rel(sec)']\n",
    "    # Load seismic data\n",
    "    data, sampling_rate, starttime = load_seismic_data(filename)\n",
    "    # Apply bandpass filter\n",
    "    data = bandpass(data, FREQ_MIN, FREQ_MAX, sampling_rate, corners=4, zerophase=True)\n",
    "    # Normalize data\n",
    "    data = (data - np.mean(data)) / np.std(data)\n",
    "    # Calculate event sample index\n",
    "    event_sample_idx = int(float(arrival_time_rel) * sampling_rate)\n",
    "    # Slide a window over the data\n",
    "    num_segments = (len(data) - WINDOW_SIZE) // STEP_SIZE + 1\n",
    "    for i in range(num_segments):\n",
    "        start_idx = i * STEP_SIZE\n",
    "        end_idx = start_idx + WINDOW_SIZE\n",
    "        window_data = data[start_idx:end_idx]\n",
    "        # Check if the event is within this window\n",
    "        if event_sample_idx >= start_idx and event_sample_idx < end_idx:\n",
    "            label = EVENT_WINDOW_LABEL\n",
    "        else:\n",
    "            label = NO_EVENT_WINDOW_LABEL\n",
    "        # Append to lists\n",
    "        X.append(window_data)\n",
    "        y.append(label)\n",
    "\n",
    "# Convert lists to numpy arrays\n",
    "X = np.array(X)\n",
    "y = np.array(y)\n",
    "print(f'Total segments: {len(X)}')\n"
   ]
  },
  {
   "cell_type": "code",
   "execution_count": 74,
   "metadata": {},
   "outputs": [
    {
     "name": "stdout",
     "output_type": "stream",
     "text": [
      "Class distribution before balancing: {0: 168073, 1: 304}\n",
      "Class distribution after balancing: {0: 168073, 1: 168073}\n"
     ]
    }
   ],
   "source": [
    "# Count the number of samples in each class\n",
    "unique, counts = np.unique(y, return_counts=True)\n",
    "print(f'Class distribution before balancing: {dict(zip(unique, counts))}')\n",
    "\n",
    "# Oversample the minority class\n",
    "ros = RandomOverSampler(random_state=42)\n",
    "X_resampled, y_resampled = ros.fit_resample(X.reshape(-1, WINDOW_SIZE), y)\n",
    "\n",
    "print(f'Class distribution after balancing: {dict(zip(*np.unique(y_resampled, return_counts=True)))}')\n",
    "\n",
    "# Reshape X for CNN input (samples, timesteps, channels)\n",
    "X_resampled = X_resampled[..., np.newaxis]\n"
   ]
  },
  {
   "cell_type": "code",
   "execution_count": 75,
   "metadata": {},
   "outputs": [
    {
     "name": "stdout",
     "output_type": "stream",
     "text": [
      "Training data shape: (268916, 1024, 1)\n",
      "Validation data shape: (67230, 1024, 1)\n"
     ]
    }
   ],
   "source": [
    "# Split data into training and validation sets\n",
    "X_train, X_val, y_train, y_val = train_test_split(\n",
    "    X_resampled, y_resampled, test_size=0.2, random_state=42, stratify=y_resampled\n",
    ")\n",
    "\n",
    "print(f'Training data shape: {X_train.shape}')\n",
    "print(f'Validation data shape: {X_val.shape}')\n"
   ]
  },
  {
   "cell_type": "code",
   "execution_count": 76,
   "metadata": {},
   "outputs": [
    {
     "name": "stdout",
     "output_type": "stream",
     "text": [
      "Model: \"sequential_3\"\n",
      "_________________________________________________________________\n",
      " Layer (type)                Output Shape              Param #   \n",
      "=================================================================\n",
      " conv1d_9 (Conv1D)           (None, 1022, 32)          128       \n",
      "                                                                 \n",
      " max_pooling1d_6 (MaxPoolin  (None, 511, 32)           0         \n",
      " g1D)                                                            \n",
      "                                                                 \n",
      " conv1d_10 (Conv1D)          (None, 509, 64)           6208      \n",
      "                                                                 \n",
      " max_pooling1d_7 (MaxPoolin  (None, 254, 64)           0         \n",
      " g1D)                                                            \n",
      "                                                                 \n",
      " conv1d_11 (Conv1D)          (None, 252, 128)          24704     \n",
      "                                                                 \n",
      " global_average_pooling1d_3  (None, 128)               0         \n",
      "  (GlobalAveragePooling1D)                                       \n",
      "                                                                 \n",
      " dense_6 (Dense)             (None, 64)                8256      \n",
      "                                                                 \n",
      " dense_7 (Dense)             (None, 1)                 65        \n",
      "                                                                 \n",
      "=================================================================\n",
      "Total params: 39361 (153.75 KB)\n",
      "Trainable params: 39361 (153.75 KB)\n",
      "Non-trainable params: 0 (0.00 Byte)\n",
      "_________________________________________________________________\n"
     ]
    }
   ],
   "source": [
    "# Build a 1D CNN model\n",
    "model = models.Sequential([\n",
    "    layers.Conv1D(filters=32, kernel_size=3, activation='relu', input_shape=(WINDOW_SIZE, 1)),\n",
    "    layers.MaxPooling1D(pool_size=2),\n",
    "    layers.Conv1D(filters=64, kernel_size=3, activation='relu'),\n",
    "    layers.MaxPooling1D(pool_size=2),\n",
    "    layers.Conv1D(filters=128, kernel_size=3, activation='relu'),\n",
    "    layers.GlobalAveragePooling1D(),\n",
    "    layers.Dense(64, activation='relu'),\n",
    "    layers.Dense(1, activation='sigmoid')\n",
    "])\n",
    "\n",
    "model.summary()"
   ]
  },
  {
   "cell_type": "code",
   "execution_count": 77,
   "metadata": {},
   "outputs": [
    {
     "name": "stdout",
     "output_type": "stream",
     "text": [
      "Epoch 1/5\n",
      "4202/4202 [==============================] - 83s 19ms/step - loss: 0.5482 - accuracy: 0.7027 - val_loss: 0.3854 - val_accuracy: 0.8285\n",
      "Epoch 2/5\n",
      "4202/4202 [==============================] - 81s 19ms/step - loss: 0.2813 - accuracy: 0.8876 - val_loss: 0.1915 - val_accuracy: 0.9361\n",
      "Epoch 3/5\n",
      "4202/4202 [==============================] - 80s 19ms/step - loss: 0.1491 - accuracy: 0.9498 - val_loss: 0.0967 - val_accuracy: 0.9713\n",
      "Epoch 4/5\n",
      "4202/4202 [==============================] - 85s 20ms/step - loss: 0.0983 - accuracy: 0.9691 - val_loss: 0.0761 - val_accuracy: 0.9848\n",
      "Epoch 5/5\n",
      "4202/4202 [==============================] - 79s 19ms/step - loss: 0.0708 - accuracy: 0.9788 - val_loss: 0.1282 - val_accuracy: 0.9563\n"
     ]
    }
   ],
   "source": [
    "# Compile the model\n",
    "model.compile(optimizer='adam', loss='binary_crossentropy', metrics=['accuracy'])\n",
    "\n",
    "# Add callbacks\n",
    "early_stopping = tf.keras.callbacks.EarlyStopping(monitor='val_loss', patience=5, restore_best_weights=True)\n",
    "\n",
    "# Train the model\n",
    "history = model.fit(\n",
    "    X_train, y_train,\n",
    "    epochs=5,\n",
    "    batch_size=64,\n",
    "    validation_data=(X_val, y_val),\n",
    "    callbacks=[early_stopping]\n",
    ")\n"
   ]
  },
  {
   "cell_type": "code",
   "execution_count": 78,
   "metadata": {},
   "outputs": [
    {
     "data": {
      "image/png": "[encoded data removed]",
      "text/plain": [
       "<Figure size 1000x800 with 2 Axes>"
      ]
     },
     "metadata": {},
     "output_type": "display_data"
    }
   ],
   "source": [
    "# Plot training and validation accuracy and loss\n",
    "def plot_history(history):\n",
    "    fig, axs = plt.subplots(2, 1, figsize=(10, 8))\n",
    "    # Accuracy plot\n",
    "    axs[0].plot(history.history['accuracy'], label='Training Accuracy')\n",
    "    axs[0].plot(history.history['val_accuracy'], label='Validation Accuracy')\n",
    "    axs[0].set_title('Accuracy')\n",
    "    axs[0].legend()\n",
    "    # Loss plot\n",
    "    axs[1].plot(history.history['loss'], label='Training Loss')\n",
    "    axs[1].plot(history.history['val_loss'], label='Validation Loss')\n",
    "    axs[1].set_title('Loss')\n",
    "    axs[1].legend()\n",
    "    plt.tight_layout()\n",
    "    plt.show()\n",
    "\n",
    "plot_history(history)\n"
   ]
  },
  {
   "cell_type": "code",
   "execution_count": 79,
   "metadata": {},
   "outputs": [
    {
     "name": "stdout",
     "output_type": "stream",
     "text": [
      "2101/2101 [==============================] - 8s 4ms/step - loss: 0.1282 - accuracy: 0.9563\n",
      "Validation Accuracy: 95.63%\n",
      "2101/2101 [==============================] - 8s 4ms/step\n",
      "              precision    recall  f1-score   support\n",
      "\n",
      "           0       0.99      0.92      0.95     33615\n",
      "           1       0.93      0.99      0.96     33615\n",
      "\n",
      "    accuracy                           0.96     67230\n",
      "   macro avg       0.96      0.96      0.96     67230\n",
      "weighted avg       0.96      0.96      0.96     67230\n",
      "\n",
      "Confusion Matrix:\n",
      "[[31021  2594]\n",
      " [  347 33268]]\n"
     ]
    }
   ],
   "source": [
    "# Evaluate on validation data\n",
    "val_loss, val_accuracy = model.evaluate(X_val, y_val)\n",
    "print(f'Validation Accuracy: {val_accuracy * 100:.2f}%')\n",
    "\n",
    "# Classification report\n",
    "y_pred_prob = model.predict(X_val)\n",
    "y_pred = (y_pred_prob > 0.5).astype(\"int32\").flatten()\n",
    "print(classification_report(y_val, y_pred))\n",
    "\n",
    "# Confusion matrix\n",
    "cm = confusion_matrix(y_val, y_pred)\n",
    "print('Confusion Matrix:')\n",
    "print(cm)\n"
   ]
  },
  {
   "cell_type": "code",
   "execution_count": 80,
   "metadata": {},
   "outputs": [],
   "source": [
    "# Function to process test data\n",
    "def process_test_data(test_filename, data_dir=TEST_DATA_DIR):\n",
    "    # Load data\n",
    "    data, sampling_rate, starttime = load_seismic_data(test_filename, data_dir)\n",
    "    # Apply bandpass filter\n",
    "    data = bandpass(data, FREQ_MIN, FREQ_MAX, sampling_rate, corners=4, zerophase=True)\n",
    "    # Normalize data\n",
    "    data = (data - np.mean(data)) / np.std(data)\n",
    "    # Segment data\n",
    "    segments = []\n",
    "    segment_times = []\n",
    "    num_segments = (len(data) - WINDOW_SIZE) // STEP_SIZE + 1\n",
    "    for i in range(num_segments):\n",
    "        start_idx = i * STEP_SIZE\n",
    "        end_idx = start_idx + WINDOW_SIZE\n",
    "        window_data = data[start_idx:end_idx]\n",
    "        segments.append(window_data)\n",
    "        # Calculate the midpoint time of the window\n",
    "        window_start_time = starttime + timedelta(seconds=start_idx / sampling_rate)\n",
    "        window_mid_time = window_start_time + timedelta(seconds=(WINDOW_SIZE / (2 * sampling_rate)))\n",
    "        segment_times.append(window_mid_time)\n",
    "    # Convert to numpy array and reshape\n",
    "    segments = np.array(segments)\n",
    "    segments = segments[..., np.newaxis]\n",
    "    return data, segments, segment_times, sampling_rate\n",
    "\n",
    "# List of test files\n",
    "test_files = [f.replace('.mseed', '') for f in os.listdir(TEST_DATA_DIR) if f.endswith('.mseed')]\n",
    "\n",
    "detections_list = []\n",
    "\n",
    "for test_filename in test_files:\n",
    "    data, segments, segment_times, sampling_rate = process_test_data(test_filename)\n",
    "    predictions = model.predict(segments)\n",
    "    predicted_labels = (predictions > 0.8).astype(\"int32\").flatten()\n",
    "    avg = abs(np.mean(data))\n",
    "    event_indices = np.where(predicted_labels == 1)[0]\n",
    "    \n",
    "    previous_event_time = None\n",
    "    previous_time_rel_sec = None\n",
    "    \n",
    "    for idx in event_indices:\n",
    "        event_time = segment_times[idx]\n",
    "        event_time_str = event_time.strftime('%Y-%m-%dT%H:%M:%S.%f')\n",
    "        time_rel_sec = (event_time - segment_times[0]).total_seconds()\n",
    "\n",
    "        dist_to_max = abs(data[int(time_rel_sec * sampling_rate)] - np.max(data))\n",
    "        dist_to_mean = abs(data[int(time_rel_sec * sampling_rate)] - np.mean(data))\n",
    "        \n",
    "        if previous_event_time is not None and (time_rel_sec - previous_time_rel_sec) < 1000:\n",
    "            avg_time_rel_sec = (previous_time_rel_sec + time_rel_sec) / 2\n",
    "            avg_event_time = previous_event_time + (event_time - previous_event_time) / 2\n",
    "            \n",
    "            detections_list[-1] = {\n",
    "                'filename': test_filename,\n",
    "                'time_abs(%Y-%m-%dT%H:%M:%S.%f)': avg_event_time.strftime('%Y-%m-%dT%H:%M:%S.%f'),\n",
    "                'time_rel(sec)': avg_time_rel_sec\n",
    "            }\n",
    "        else:\n",
    "                detections_list.append({\n",
    "                    'filename': test_filename,\n",
    "                    'time_abs(%Y-%m-%dT%H:%M:%S.%f)': event_time_str,\n",
    "                    'time_rel(sec)': time_rel_sec\n",
    "                })\n",
    "        \n",
    "        previous_event_time = event_time\n",
    "        previous_time_rel_sec = time_rel_sec\n",
    "\n",
    "\n",
    "\n",
    "# Convert the list of detections to a DataFrame\n",
    "detections = pd.DataFrame(detections_list)\n"
   ]
  },
  {
   "cell_type": "code",
   "execution_count": 84,
   "metadata": {},
   "outputs": [
    {
     "name": "stdout",
     "output_type": "stream",
     "text": [
      "Detections saved to seismic_event_detections.csv\n"
     ]
    }
   ],
   "source": []
  },
  {
   "cell_type": "code",
   "execution_count": 83,
   "metadata": {},
   "outputs": [
    {
     "name": "stdout",
     "output_type": "stream",
     "text": [
      "67/67 [==============================] - 0s 3ms/step\n",
      "70/70 [==============================] - 0s 3ms/step\n",
      "70/70 [==============================] - 0s 3ms/step\n",
      "70/70 [==============================] - 0s 4ms/step\n",
      "70/70 [==============================] - 0s 3ms/step\n",
      "70/70 [==============================] - 0s 3ms/step\n",
      "70/70 [==============================] - 0s 3ms/step\n",
      "64/64 [==============================] - 0s 3ms/step\n",
      "70/70 [==============================] - 0s 3ms/step\n",
      "70/70 [==============================] - 0s 3ms/step\n",
      "70/70 [==============================] - 0s 3ms/step\n",
      "70/70 [==============================] - 0s 3ms/step\n",
      "70/70 [==============================] - 0s 3ms/step\n",
      "70/70 [==============================] - 0s 3ms/step\n"
     ]
    }
   ],
   "source": [
    "# # Function to process test data\n",
    "# def process_test_data(test_filename, data_dir=TEST_DATA_DIR):\n",
    "#     # Load data\n",
    "#     data, sampling_rate, starttime = load_seismic_data(test_filename, data_dir)\n",
    "#     # Apply bandpass filter\n",
    "#     data = bandpass(data, FREQ_MIN, FREQ_MAX, sampling_rate, corners=4, zerophase=True)\n",
    "#     # Normalize data\n",
    "#     data = (data - np.mean(data)) / np.std(data)\n",
    "#     # Segment data\n",
    "#     segments = []\n",
    "#     segment_times = []\n",
    "#     num_segments = (len(data) - WINDOW_SIZE) // STEP_SIZE + 1\n",
    "#     for i in range(num_segments):\n",
    "#         start_idx = i * STEP_SIZE\n",
    "#         end_idx = start_idx + WINDOW_SIZE\n",
    "#         window_data = data[start_idx:end_idx]\n",
    "#         segments.append(window_data)\n",
    "#         # Calculate the midpoint time of the window\n",
    "#         window_start_time = starttime + timedelta(seconds=start_idx / sampling_rate)\n",
    "#         window_mid_time = window_start_time + timedelta(seconds=(WINDOW_SIZE / (2 * sampling_rate)))\n",
    "#         segment_times.append(window_mid_time)\n",
    "#     # Convert to numpy array and reshape\n",
    "#     segments = np.array(segments)\n",
    "#     segments = segments[..., np.newaxis]\n",
    "#     return data, segments, segment_times, sampling_rate\n",
    "\n",
    "# # List of test files\n",
    "# test_files = [f.replace('.mseed', '') for f in os.listdir(TEST_DATA_DIR) if f.endswith('.mseed')]\n",
    "\n",
    "# detections_list = []\n",
    "\n",
    "# for test_filename in test_files:\n",
    "#     data, segments, segment_times, sampling_rate = process_test_data(test_filename)\n",
    "#     predictions = model.predict(segments)\n",
    "#     predicted_labels = (predictions > 0.8).astype(\"int32\").flatten()\n",
    "#     avg = abs(np.mean(data))\n",
    "#     event_indices = np.where(predicted_labels == 1)[0]\n",
    "    \n",
    "#     previous_event_time = None\n",
    "#     previous_time_rel_sec = None\n",
    "#     current_group = {\n",
    "#         'filename': test_filename,\n",
    "#         'time_abs_list': [],\n",
    "#         'time_rel_sec_list': []\n",
    "#     }\n",
    "    \n",
    "#     for idx in event_indices:\n",
    "#         event_time = segment_times[idx]\n",
    "#         event_time_str = event_time.strftime('%Y-%m-%dT%H:%M:%S.%f')\n",
    "#         time_rel_sec = (event_time - segment_times[0]).total_seconds()\n",
    "\n",
    "#         # Calculate distance metrics\n",
    "#         data_index = int(time_rel_sec * sampling_rate)\n",
    "#         if data_index >= len(data):\n",
    "#             data_index = len(data) - 1  # Prevent out-of-bounds\n",
    "#         dist_to_max = abs(data[data_index] - np.max(data))\n",
    "#         dist_to_mean = abs(data[data_index] - np.mean(data))\n",
    "        \n",
    "#         if previous_event_time is not None and (time_rel_sec - previous_time_rel_sec) < (0.05 * previous_time_rel_sec):\n",
    "#             # If the event is close to the previous one, add to the current group\n",
    "#             current_group['time_abs_list'].append(event_time)\n",
    "#             current_group['time_rel_sec_list'].append(time_rel_sec)\n",
    "#         else:\n",
    "#             # If there's an existing group, finalize and append it to detections_list\n",
    "#             if current_group['time_abs_list']:\n",
    "#                 avg_time_rel_sec = np.mean(current_group['time_rel_sec_list'])\n",
    "#                 avg_event_time = current_group['time_abs_list'][0] + \\\n",
    "#                                  (current_group['time_abs_list'][-1] - current_group['time_abs_list'][0]) / 2\n",
    "#                 if abs(data[int(avg_time_rel_sec * sampling_rate)] - np.max(data)) > \\\n",
    "#                    abs(data[int(avg_time_rel_sec * sampling_rate)] - np.mean(data)):\n",
    "#                     detection = {\n",
    "#                         'filename': test_filename,\n",
    "#                         'time_abs(%Y-%m-%dT%H:%M:%S.%f)': avg_event_time.strftime('%Y-%m-%dT%H:%M:%S.%f'),\n",
    "#                         'time_rel(sec)': avg_time_rel_sec\n",
    "#                     }\n",
    "#                     detections_list.append(detection)\n",
    "#                 # Reset current group\n",
    "#                 current_group = {\n",
    "#                     'filename': test_filename,\n",
    "#                     'time_abs_list': [event_time],\n",
    "#                     'time_rel_sec_list': [time_rel_sec]\n",
    "#                 }\n",
    "#             else:\n",
    "#                 # Start a new group\n",
    "#                 current_group['time_abs_list'].append(event_time)\n",
    "#                 current_group['time_rel_sec_list'].append(time_rel_sec)\n",
    "        \n",
    "#         previous_event_time = event_time\n",
    "#         previous_time_rel_sec = time_rel_sec\n",
    "    \n",
    "#     # After processing all events, ensure the last group is added\n",
    "#     if current_group['time_abs_list']:\n",
    "#         avg_time_rel_sec = np.mean(current_group['time_rel_sec_list'])\n",
    "#         avg_event_time = current_group['time_abs_list'][0] + \\\n",
    "#                          (current_group['time_abs_list'][-1] - current_group['time_abs_list'][0]) / 2\n",
    "#         if abs(data[int(avg_time_rel_sec * sampling_rate)] - np.max(data)) > \\\n",
    "#            abs(data[int(avg_time_rel_sec * sampling_rate)] - np.mean(data)):\n",
    "#             detection = {\n",
    "#                 'filename': test_filename,\n",
    "#                 'time_abs(%Y-%m-%dT%H:%M:%S.%f)': avg_event_time.strftime('%Y-%m-%dT%H:%M:%S.%f'),\n",
    "#                 'time_rel(sec)': avg_time_rel_sec\n",
    "#             }\n",
    "#             detections_list.append(detection)\n",
    "\n",
    "\n",
    "\n",
    "# # Convert the list of detections to a DataFrame\n",
    "# detections = pd.DataFrame(detections_list)\n"
   ]
  },
  {
   "cell_type": "code",
   "execution_count": 85,
   "metadata": {},
   "outputs": [
    {
     "name": "stdout",
     "output_type": "stream",
     "text": [
      "Detections saved to seismic_event_detections.csv\n"
     ]
    }
   ],
   "source": [
    "# Save the detections to a CSV file\n",
    "detections.to_csv('S16_GradeA.csv', index=False)\n",
    "print('Detections saved to seismic_event_detections.csv')\n"
   ]
  }
 ],
 "metadata": {
  "kernelspec": {
   "display_name": "Python 3",
   "language": "python",
   "name": "python3"
  },
  "language_info": {
   "codemirror_mode": {
    "name": "ipython",
    "version": 3
   },
   "file_extension": ".py",
   "mimetype": "text/x-python",
   "name": "python",
   "nbconvert_exporter": "python",
   "pygments_lexer": "ipython3",
   "version": "3.9.4"
  }
 },
 "nbformat": 4,
 "nbformat_minor": 2
}

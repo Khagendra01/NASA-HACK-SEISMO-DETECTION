{
 "cells": [
  {
   "cell_type": "code",
   "execution_count": 1,
   "metadata": {},
   "outputs": [
    {
     "name": "stdout",
     "output_type": "stream",
     "text": [
      "WARNING:tensorflow:From c:\\Users\\K-Gen\\AppData\\Local\\Programs\\Python\\Python39\\lib\\site-packages\\keras\\src\\losses.py:2976: The name tf.losses.sparse_softmax_cross_entropy is deprecated. Please use tf.compat.v1.losses.sparse_softmax_cross_entropy instead.\n",
      "\n"
     ]
    }
   ],
   "source": [
    "# Import necessary libraries\n",
    "import numpy as np\n",
    "import pandas as pd\n",
    "import os\n",
    "from obspy import read\n",
    "from obspy.signal.filter import bandpass\n",
    "from sklearn.model_selection import train_test_split\n",
    "from sklearn.metrics import classification_report, confusion_matrix\n",
    "from imblearn.over_sampling import RandomOverSampler\n",
    "import tensorflow as tf\n",
    "from tensorflow.keras import layers, models\n",
    "import matplotlib.pyplot as plt\n",
    "from datetime import datetime, timedelta\n",
    "\n",
    "# Set random seed for reproducibility\n",
    "np.random.seed(42)\n",
    "tf.random.set_seed(42)\n",
    "\n",
    "# Define data directories\n",
    "TRAIN_DATA_DIR = './data/lunar/training/data/S12_GradeA/'\n",
    "TRAIN_CATALOG_FILE = './data/lunar/training/catalogs/apollo12_catalog_GradeA_final.csv'\n",
    "TEST_DATA_DIR = './data/lunar/test/data/S12_GradeB/'\n",
    "\n",
    "# Load the training catalog\n",
    "catalog = pd.read_csv(TRAIN_CATALOG_FILE)\n"
   ]
  },
  {
   "cell_type": "code",
   "execution_count": 2,
   "metadata": {},
   "outputs": [
    {
     "name": "stdout",
     "output_type": "stream",
     "text": [
      "Total segments: 337032\n"
     ]
    }
   ],
   "source": [
    "# Function to load seismic data from a file\n",
    "def load_seismic_data(filename, data_dir=TRAIN_DATA_DIR):\n",
    "    mseed_file = os.path.join(data_dir, filename + '.mseed')\n",
    "    st = read(mseed_file)\n",
    "    tr = st[0]\n",
    "    data = tr.data\n",
    "    sampling_rate = tr.stats.sampling_rate\n",
    "    starttime = tr.stats.starttime.datetime\n",
    "    return data, sampling_rate, starttime\n",
    "\n",
    "# Prepare lists to hold data and labels\n",
    "X = []\n",
    "y = []\n",
    "\n",
    "# Parameters for data segmentation\n",
    "WINDOW_SIZE = 512  # Number of samples per segment (adjust as needed)\n",
    "STEP_SIZE = 128     # Step size for sliding window (adjust as needed)\n",
    "EVENT_WINDOW_LABEL = 1\n",
    "NO_EVENT_WINDOW_LABEL = 0\n",
    "\n",
    "# Bandpass filter parameters (adjust as needed)\n",
    "FREQ_MIN = 0.5  # Hz\n",
    "FREQ_MAX = 2.0  # Hz\n",
    "\n",
    "# Load data and labels\n",
    "for idx, row in catalog.iterrows():\n",
    "    filename = row['filename']\n",
    "    arrival_time_rel = row['time_rel(sec)']\n",
    "    # Load seismic data\n",
    "    data, sampling_rate, starttime = load_seismic_data(filename)\n",
    "    # Apply bandpass filter\n",
    "    data = bandpass(data, FREQ_MIN, FREQ_MAX, sampling_rate, corners=4, zerophase=True)\n",
    "    # Normalize data\n",
    "    data = (data - np.mean(data)) / np.std(data)\n",
    "    # Calculate event sample index\n",
    "    event_sample_idx = int(arrival_time_rel * sampling_rate)\n",
    "    # Slide a window over the data\n",
    "    num_segments = (len(data) - WINDOW_SIZE) // STEP_SIZE + 1\n",
    "    for i in range(num_segments):\n",
    "        start_idx = i * STEP_SIZE\n",
    "        end_idx = start_idx + WINDOW_SIZE\n",
    "        window_data = data[start_idx:end_idx]\n",
    "        # Check if the event is within this window\n",
    "        if event_sample_idx >= start_idx and event_sample_idx < end_idx:\n",
    "            label = EVENT_WINDOW_LABEL\n",
    "        else:\n",
    "            label = NO_EVENT_WINDOW_LABEL\n",
    "        # Append to lists\n",
    "        X.append(window_data)\n",
    "        y.append(label)\n",
    "\n",
    "# Convert lists to numpy arrays\n",
    "X = np.array(X)\n",
    "y = np.array(y)\n",
    "print(f'Total segments: {len(X)}')\n"
   ]
  },
  {
   "cell_type": "code",
   "execution_count": 3,
   "metadata": {},
   "outputs": [
    {
     "name": "stdout",
     "output_type": "stream",
     "text": [
      "486937\n",
      "572415\n"
     ]
    }
   ],
   "source": [
    "for idx, row in catalog.iterrows():\n",
    "    filename = row['filename']\n",
    "    arrival_time_rel = row['time_rel(sec)']\n",
    "    # Load seismic data\n",
    "    data, sampling_rate, starttime = load_seismic_data(filename)\n",
    "    # Apply bandpass filter\n",
    "    data = bandpass(data, FREQ_MIN, FREQ_MAX, sampling_rate, corners=4, zerophase=True)\n",
    "    # Normalize data\n",
    "    data = (data - np.mean(data)) / np.std(data)\n",
    "    # Calculate event sample index\n",
    "    event_sample_idx = int(arrival_time_rel * sampling_rate)\n",
    "    print(event_sample_idx)\n",
    "    print(len(data))\n",
    "    break"
   ]
  },
  {
   "cell_type": "code",
   "execution_count": 4,
   "metadata": {},
   "outputs": [
    {
     "name": "stdout",
     "output_type": "stream",
     "text": [
      "Class distribution before balancing: {0: 336728, 1: 304}\n",
      "Class distribution after balancing: {0: 336728, 1: 336728}\n"
     ]
    }
   ],
   "source": [
    "# Count the number of samples in each class\n",
    "unique, counts = np.unique(y, return_counts=True)\n",
    "print(f'Class distribution before balancing: {dict(zip(unique, counts))}')\n",
    "\n",
    "# Oversample the minority class\n",
    "ros = RandomOverSampler(random_state=42)\n",
    "X_resampled, y_resampled = ros.fit_resample(X.reshape(-1, WINDOW_SIZE), y)\n",
    "\n",
    "print(f'Class distribution after balancing: {dict(zip(*np.unique(y_resampled, return_counts=True)))}')\n",
    "\n",
    "# Reshape X for CNN input (samples, timesteps, channels)\n",
    "X_resampled = X_resampled[..., np.newaxis]\n"
   ]
  },
  {
   "cell_type": "code",
   "execution_count": 5,
   "metadata": {},
   "outputs": [
    {
     "name": "stdout",
     "output_type": "stream",
     "text": [
      "Training data shape: (538764, 512, 1)\n",
      "Validation data shape: (134692, 512, 1)\n"
     ]
    }
   ],
   "source": [
    "# Split data into training and validation sets\n",
    "X_train, X_val, y_train, y_val = train_test_split(\n",
    "    X_resampled, y_resampled, test_size=0.2, random_state=42, stratify=y_resampled\n",
    ")\n",
    "\n",
    "print(f'Training data shape: {X_train.shape}')\n",
    "print(f'Validation data shape: {X_val.shape}')\n"
   ]
  },
  {
   "cell_type": "code",
   "execution_count": 6,
   "metadata": {},
   "outputs": [
    {
     "name": "stdout",
     "output_type": "stream",
     "text": [
      "WARNING:tensorflow:From c:\\Users\\K-Gen\\AppData\\Local\\Programs\\Python\\Python39\\lib\\site-packages\\keras\\src\\backend.py:873: The name tf.get_default_graph is deprecated. Please use tf.compat.v1.get_default_graph instead.\n",
      "\n",
      "WARNING:tensorflow:From c:\\Users\\K-Gen\\AppData\\Local\\Programs\\Python\\Python39\\lib\\site-packages\\keras\\src\\backend.py:6642: The name tf.nn.max_pool is deprecated. Please use tf.nn.max_pool2d instead.\n",
      "\n",
      "Model: \"sequential\"\n",
      "_________________________________________________________________\n",
      " Layer (type)                Output Shape              Param #   \n",
      "=================================================================\n",
      " conv1d (Conv1D)             (None, 508, 32)           192       \n",
      "                                                                 \n",
      " batch_normalization (Batch  (None, 508, 32)           128       \n",
      " Normalization)                                                  \n",
      "                                                                 \n",
      " max_pooling1d (MaxPooling1  (None, 254, 32)           0         \n",
      " D)                                                              \n",
      "                                                                 \n",
      " dropout (Dropout)           (None, 254, 32)           0         \n",
      "                                                                 \n",
      " conv1d_1 (Conv1D)           (None, 250, 64)           10304     \n",
      "                                                                 \n",
      " batch_normalization_1 (Bat  (None, 250, 64)           256       \n",
      " chNormalization)                                                \n",
      "                                                                 \n",
      " max_pooling1d_1 (MaxPoolin  (None, 125, 64)           0         \n",
      " g1D)                                                            \n",
      "                                                                 \n",
      " dropout_1 (Dropout)         (None, 125, 64)           0         \n",
      "                                                                 \n",
      " conv1d_2 (Conv1D)           (None, 121, 128)          41088     \n",
      "                                                                 \n",
      " batch_normalization_2 (Bat  (None, 121, 128)          512       \n",
      " chNormalization)                                                \n",
      "                                                                 \n",
      " global_average_pooling1d (  (None, 128)               0         \n",
      " GlobalAveragePooling1D)                                         \n",
      "                                                                 \n",
      " dropout_2 (Dropout)         (None, 128)               0         \n",
      "                                                                 \n",
      " dense (Dense)               (None, 128)               16512     \n",
      "                                                                 \n",
      " dropout_3 (Dropout)         (None, 128)               0         \n",
      "                                                                 \n",
      " dense_1 (Dense)             (None, 1)                 129       \n",
      "                                                                 \n",
      "=================================================================\n",
      "Total params: 69121 (270.00 KB)\n",
      "Trainable params: 68673 (268.25 KB)\n",
      "Non-trainable params: 448 (1.75 KB)\n",
      "_________________________________________________________________\n"
     ]
    }
   ],
   "source": [
    "model = models.Sequential([\n",
    "    layers.Conv1D(filters=32, kernel_size=5, activation='relu', input_shape=(WINDOW_SIZE, 1)),\n",
    "    layers.BatchNormalization(),\n",
    "    layers.MaxPooling1D(pool_size=2),\n",
    "    layers.Dropout(0.2),\n",
    "\n",
    "    layers.Conv1D(filters=64, kernel_size=5, activation='relu'),\n",
    "    layers.BatchNormalization(),\n",
    "    layers.MaxPooling1D(pool_size=2),\n",
    "    layers.Dropout(0.3),\n",
    "\n",
    "    layers.Conv1D(filters=128, kernel_size=5, activation='relu'),\n",
    "    layers.BatchNormalization(),\n",
    "    layers.GlobalAveragePooling1D(),\n",
    "    layers.Dropout(0.4),\n",
    "\n",
    "    layers.Dense(128, activation='relu'),\n",
    "    layers.Dropout(0.5),\n",
    "    layers.Dense(1, activation='sigmoid')\n",
    "])\n",
    "\n",
    "model.summary()"
   ]
  },
  {
   "cell_type": "code",
   "execution_count": 7,
   "metadata": {},
   "outputs": [
    {
     "name": "stdout",
     "output_type": "stream",
     "text": [
      "WARNING:tensorflow:From c:\\Users\\K-Gen\\AppData\\Local\\Programs\\Python\\Python39\\lib\\site-packages\\keras\\src\\optimizers\\__init__.py:309: The name tf.train.Optimizer is deprecated. Please use tf.compat.v1.train.Optimizer instead.\n",
      "\n",
      "Epoch 1/5\n",
      "WARNING:tensorflow:From c:\\Users\\K-Gen\\AppData\\Local\\Programs\\Python\\Python39\\lib\\site-packages\\keras\\src\\utils\\tf_utils.py:492: The name tf.ragged.RaggedTensorValue is deprecated. Please use tf.compat.v1.ragged.RaggedTensorValue instead.\n",
      "\n",
      "WARNING:tensorflow:From c:\\Users\\K-Gen\\AppData\\Local\\Programs\\Python\\Python39\\lib\\site-packages\\keras\\src\\engine\\base_layer_utils.py:384: The name tf.executing_eagerly_outside_functions is deprecated. Please use tf.compat.v1.executing_eagerly_outside_functions instead.\n",
      "\n",
      "8419/8419 [==============================] - 263s 31ms/step - loss: 0.2935 - accuracy: 0.8655 - val_loss: 0.2346 - val_accuracy: 0.9254\n",
      "Epoch 2/5\n",
      "8419/8419 [==============================] - 254s 30ms/step - loss: 0.1356 - accuracy: 0.9488 - val_loss: 0.0851 - val_accuracy: 0.9776\n",
      "Epoch 3/5\n",
      "8419/8419 [==============================] - 253s 30ms/step - loss: 0.1088 - accuracy: 0.9598 - val_loss: 0.0461 - val_accuracy: 0.9863\n",
      "Epoch 4/5\n",
      "8419/8419 [==============================] - 260s 31ms/step - loss: 0.0941 - accuracy: 0.9661 - val_loss: 0.0506 - val_accuracy: 0.9852\n",
      "Epoch 5/5\n",
      "8419/8419 [==============================] - 266s 32ms/step - loss: 0.0855 - accuracy: 0.9695 - val_loss: 0.0294 - val_accuracy: 0.9917\n"
     ]
    }
   ],
   "source": [
    "# Compile the model\n",
    "model.compile(optimizer='adam', loss='binary_crossentropy', metrics=['accuracy'])\n",
    "\n",
    "# Add callbacks\n",
    "early_stopping = tf.keras.callbacks.EarlyStopping(monitor='val_loss', patience=5, restore_best_weights=True)\n",
    "\n",
    "# Train the model\n",
    "history = model.fit(\n",
    "    X_train, y_train,\n",
    "    epochs=5,\n",
    "    batch_size=64,\n",
    "    validation_data=(X_val, y_val),\n",
    "    callbacks=[early_stopping]\n",
    ")\n"
   ]
  },
  {
   "cell_type": "code",
   "execution_count": 8,
   "metadata": {},
   "outputs": [
    {
     "data": {
      "image/png": "[encoded data removed]",
      "text/plain": [
       "<Figure size 1000x800 with 2 Axes>"
      ]
     },
     "metadata": {},
     "output_type": "display_data"
    }
   ],
   "source": [
    "# Plot training and validation accuracy and loss\n",
    "def plot_history(history):\n",
    "    fig, axs = plt.subplots(2, 1, figsize=(10, 8))\n",
    "    # Accuracy plot\n",
    "    axs[0].plot(history.history['accuracy'], label='Training Accuracy')\n",
    "    axs[0].plot(history.history['val_accuracy'], label='Validation Accuracy')\n",
    "    axs[0].set_title('Accuracy')\n",
    "    axs[0].legend()\n",
    "    # Loss plot\n",
    "    axs[1].plot(history.history['loss'], label='Training Loss')\n",
    "    axs[1].plot(history.history['val_loss'], label='Validation Loss')\n",
    "    axs[1].set_title('Loss')\n",
    "    axs[1].legend()\n",
    "    plt.tight_layout()\n",
    "    plt.show()\n",
    "\n",
    "plot_history(history)\n"
   ]
  },
  {
   "cell_type": "code",
   "execution_count": 9,
   "metadata": {},
   "outputs": [
    {
     "name": "stdout",
     "output_type": "stream",
     "text": [
      "4210/4210 [==============================] - 14s 3ms/step - loss: 0.0294 - accuracy: 0.9917\n",
      "Validation Accuracy: 99.17%\n",
      "4210/4210 [==============================] - 18s 4ms/step\n",
      "              precision    recall  f1-score   support\n",
      "\n",
      "           0       0.99      1.00      0.99     67346\n",
      "           1       1.00      0.99      0.99     67346\n",
      "\n",
      "    accuracy                           0.99    134692\n",
      "   macro avg       0.99      0.99      0.99    134692\n",
      "weighted avg       0.99      0.99      0.99    134692\n",
      "\n",
      "Confusion Matrix:\n",
      "[[67108   238]\n",
      " [  884 66462]]\n"
     ]
    }
   ],
   "source": [
    "# Evaluate on validation data\n",
    "val_loss, val_accuracy = model.evaluate(X_val, y_val)\n",
    "print(f'Validation Accuracy: {val_accuracy * 100:.2f}%')\n",
    "\n",
    "# Classification report\n",
    "y_pred_prob = model.predict(X_val)\n",
    "y_pred = (y_pred_prob > 0.5).astype(\"int32\").flatten()\n",
    "print(classification_report(y_val, y_pred))\n",
    "\n",
    "# Confusion matrix\n",
    "cm = confusion_matrix(y_val, y_pred)\n",
    "print('Confusion Matrix:')\n",
    "print(cm)\n"
   ]
  },
  {
   "cell_type": "code",
   "execution_count": 10,
   "metadata": {},
   "outputs": [
    {
     "name": "stdout",
     "output_type": "stream",
     "text": [
      "140/140 [==============================] - 1s 4ms/step\n",
      "140/140 [==============================] - 0s 3ms/step\n",
      "140/140 [==============================] - 0s 3ms/step\n",
      "140/140 [==============================] - 0s 3ms/step\n",
      "140/140 [==============================] - 1s 4ms/step\n",
      "140/140 [==============================] - 1s 4ms/step\n",
      "140/140 [==============================] - 1s 4ms/step\n",
      "140/140 [==============================] - 1s 4ms/step\n",
      "140/140 [==============================] - 1s 4ms/step\n",
      "140/140 [==============================] - 1s 4ms/step\n",
      "140/140 [==============================] - 0s 3ms/step\n",
      "140/140 [==============================] - 0s 3ms/step\n",
      "140/140 [==============================] - 0s 3ms/step\n",
      "140/140 [==============================] - 0s 3ms/step\n",
      "140/140 [==============================] - 0s 3ms/step\n",
      "140/140 [==============================] - 0s 3ms/step\n",
      "140/140 [==============================] - 0s 3ms/step\n",
      "140/140 [==============================] - 0s 3ms/step\n",
      "140/140 [==============================] - 0s 3ms/step\n",
      "140/140 [==============================] - 1s 4ms/step\n",
      "140/140 [==============================] - 1s 4ms/step\n",
      "133/133 [==============================] - 1s 4ms/step\n",
      "140/140 [==============================] - 1s 5ms/step\n",
      "140/140 [==============================] - 1s 4ms/step\n",
      "65/65 [==============================] - 0s 4ms/step\n",
      "140/140 [==============================] - 1s 4ms/step\n",
      "140/140 [==============================] - 0s 3ms/step\n",
      "140/140 [==============================] - 1s 4ms/step\n",
      "140/140 [==============================] - 0s 3ms/step\n",
      "140/140 [==============================] - 0s 3ms/step\n",
      "140/140 [==============================] - 0s 3ms/step\n",
      "140/140 [==============================] - 0s 3ms/step\n",
      "140/140 [==============================] - 0s 3ms/step\n",
      "140/140 [==============================] - 0s 3ms/step\n",
      "140/140 [==============================] - 1s 4ms/step\n",
      "140/140 [==============================] - 0s 3ms/step\n",
      "140/140 [==============================] - 0s 3ms/step\n",
      "140/140 [==============================] - 0s 3ms/step\n",
      "140/140 [==============================] - 0s 3ms/step\n",
      "140/140 [==============================] - 0s 3ms/step\n",
      "140/140 [==============================] - 0s 3ms/step\n",
      "140/140 [==============================] - 1s 4ms/step\n",
      "140/140 [==============================] - 0s 3ms/step\n",
      "140/140 [==============================] - 1s 4ms/step\n",
      "140/140 [==============================] - 0s 3ms/step\n",
      "117/117 [==============================] - 0s 3ms/step\n",
      "140/140 [==============================] - 0s 3ms/step\n",
      "140/140 [==============================] - 0s 3ms/step\n",
      "140/140 [==============================] - 0s 3ms/step\n",
      "139/139 [==============================] - 0s 3ms/step\n",
      "140/140 [==============================] - 0s 3ms/step\n",
      "140/140 [==============================] - 0s 3ms/step\n",
      "111/111 [==============================] - 0s 3ms/step\n",
      "140/140 [==============================] - 0s 3ms/step\n",
      "140/140 [==============================] - 0s 3ms/step\n",
      "140/140 [==============================] - 0s 3ms/step\n",
      "140/140 [==============================] - 1s 4ms/step\n",
      "140/140 [==============================] - 1s 4ms/step\n",
      "140/140 [==============================] - 1s 4ms/step\n",
      "140/140 [==============================] - 1s 4ms/step\n",
      "140/140 [==============================] - 0s 3ms/step\n",
      "140/140 [==============================] - 1s 4ms/step\n",
      "138/138 [==============================] - 1s 4ms/step\n",
      "140/140 [==============================] - 0s 3ms/step\n"
     ]
    }
   ],
   "source": [
    "# Function to process test data\n",
    "def process_test_data(test_filename, data_dir=TEST_DATA_DIR):\n",
    "    # Load data\n",
    "    data, sampling_rate, starttime = load_seismic_data(test_filename, data_dir)\n",
    "    # Apply bandpass filter\n",
    "    data = bandpass(data, FREQ_MIN, FREQ_MAX, sampling_rate, corners=4, zerophase=True)\n",
    "    # Normalize data\n",
    "    data = (data - np.mean(data)) / np.std(data)\n",
    "    # Segment data\n",
    "    segments = []\n",
    "    segment_times = []\n",
    "    num_segments = (len(data) - WINDOW_SIZE) // STEP_SIZE + 1\n",
    "    for i in range(num_segments):\n",
    "        start_idx = i * STEP_SIZE\n",
    "        end_idx = start_idx + WINDOW_SIZE\n",
    "        window_data = data[start_idx:end_idx]\n",
    "        segments.append(window_data)\n",
    "        # Calculate the midpoint time of the window\n",
    "        window_start_time = starttime + timedelta(seconds=start_idx / sampling_rate)\n",
    "        window_mid_time = window_start_time + timedelta(seconds=(WINDOW_SIZE / (2 * sampling_rate)))\n",
    "        segment_times.append(window_mid_time)\n",
    "    # Convert to numpy array and reshape\n",
    "    segments = np.array(segments)\n",
    "    segments = segments[..., np.newaxis]\n",
    "    return data, segments, segment_times, sampling_rate\n",
    "\n",
    "# List of test files\n",
    "test_files = [f.replace('.mseed', '') for f in os.listdir(TEST_DATA_DIR) if f.endswith('.mseed')]\n",
    "\n",
    "detections_list = []\n",
    "\n",
    "for test_filename in test_files:\n",
    "    data, segments, segment_times, sampling_rate = process_test_data(test_filename)\n",
    "    predictions = model.predict(segments)\n",
    "    predicted_labels = (predictions > 0.8).astype(\"int32\").flatten()\n",
    "    avg = abs(np.mean(data))\n",
    "    event_indices = np.where(predicted_labels == 1)[0]\n",
    "    \n",
    "    previous_event_time = None\n",
    "    previous_time_rel_sec = None\n",
    "    \n",
    "    for idx in event_indices:\n",
    "        event_time = segment_times[idx]\n",
    "        event_time_str = event_time.strftime('%Y-%m-%dT%H:%M:%S.%f')\n",
    "        time_rel_sec = (event_time - segment_times[0]).total_seconds()\n",
    "\n",
    "        dist_to_max = abs(data[int(time_rel_sec * sampling_rate)] - np.max(data))\n",
    "        dist_to_mean = abs(data[int(time_rel_sec * sampling_rate)] - np.mean(data))\n",
    "        \n",
    "        if previous_event_time is not None and (time_rel_sec - previous_time_rel_sec) < 1000:\n",
    "            avg_time_rel_sec = (previous_time_rel_sec + time_rel_sec) / 2\n",
    "            avg_event_time = previous_event_time + (event_time - previous_event_time) / 2\n",
    "            \n",
    "            detections_list[-1] = {\n",
    "                'filename': test_filename,\n",
    "                'time_abs(%Y-%m-%dT%H:%M:%S.%f)': avg_event_time.strftime('%Y-%m-%dT%H:%M:%S.%f'),\n",
    "                'time_rel(sec)': avg_time_rel_sec\n",
    "            }\n",
    "        else:\n",
    "                detections_list.append({\n",
    "                    'filename': test_filename,\n",
    "                    'time_abs(%Y-%m-%dT%H:%M:%S.%f)': event_time_str,\n",
    "                    'time_rel(sec)': time_rel_sec\n",
    "                })\n",
    "        \n",
    "        previous_event_time = event_time\n",
    "        previous_time_rel_sec = time_rel_sec\n",
    "\n",
    "\n",
    "\n",
    "# Convert the list of detections to a DataFrame\n",
    "detections = pd.DataFrame(detections_list)\n"
   ]
  },
  {
   "cell_type": "code",
   "execution_count": 11,
   "metadata": {},
   "outputs": [
    {
     "name": "stdout",
     "output_type": "stream",
     "text": [
      "Detections saved to seismic_event_detections.csv\n"
     ]
    }
   ],
   "source": [
    "# Save the detections to a CSV file\n",
    "detections.to_csv('S12_Grade_B.csv', index=False)\n",
    "print('Detections saved to seismic_event_detections.csv')\n"
   ]
  }
 ],
 "metadata": {
  "kernelspec": {
   "display_name": "Python 3",
   "language": "python",
   "name": "python3"
  },
  "language_info": {
   "codemirror_mode": {
    "name": "ipython",
    "version": 3
   },
   "file_extension": ".py",
   "mimetype": "text/x-python",
   "name": "python",
   "nbconvert_exporter": "python",
   "pygments_lexer": "ipython3",
   "version": "3.9.4"
  }
 },
 "nbformat": 4,
 "nbformat_minor": 2
}

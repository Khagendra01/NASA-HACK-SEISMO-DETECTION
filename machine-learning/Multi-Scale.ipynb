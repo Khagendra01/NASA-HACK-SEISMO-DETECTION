{
 "cells": [
  {
   "cell_type": "code",
   "execution_count": 8,
   "metadata": {},
   "outputs": [],
   "source": [
    "# Import necessary libraries\n",
    "import numpy as np\n",
    "import pandas as pd\n",
    "import os\n",
    "from obspy import read\n",
    "from obspy.signal.filter import bandpass\n",
    "from sklearn.model_selection import train_test_split\n",
    "from sklearn.metrics import classification_report, confusion_matrix\n",
    "from imblearn.over_sampling import RandomOverSampler\n",
    "import tensorflow as tf\n",
    "from tensorflow.keras import layers, models\n",
    "import matplotlib.pyplot as plt\n",
    "from datetime import datetime, timedelta\n",
    "\n",
    "# Set random seed for reproducibility\n",
    "np.random.seed(42)\n",
    "tf.random.set_seed(42)\n",
    "\n",
    "# Define data directories\n",
    "TRAIN_DATA_DIR = './data/lunar/training/data/S12_GradeA/'\n",
    "TRAIN_CATALOG_FILE = './data/lunar/training/catalogs/apollo12_catalog_GradeA_final.csv'\n",
    "TEST_DATA_DIR = './data/lunar/test/data/S12_GradeB/'\n",
    "\n",
    "# Load the training catalog\n",
    "catalog = pd.read_csv(TRAIN_CATALOG_FILE)\n"
   ]
  },
  {
   "cell_type": "code",
   "execution_count": 9,
   "metadata": {},
   "outputs": [
    {
     "name": "stdout",
     "output_type": "stream",
     "text": [
      "Total segments: 168377\n"
     ]
    }
   ],
   "source": [
    "# Function to load seismic data from a file\n",
    "def load_seismic_data(filename, data_dir=TRAIN_DATA_DIR):\n",
    "    mseed_file = os.path.join(data_dir, filename + '.mseed')\n",
    "    st = read(mseed_file)\n",
    "    tr = st[0]\n",
    "    data = tr.data\n",
    "    sampling_rate = tr.stats.sampling_rate\n",
    "    starttime = tr.stats.starttime.datetime\n",
    "    return data, sampling_rate, starttime\n",
    "\n",
    "# Prepare lists to hold data and labels\n",
    "X = []\n",
    "y = []\n",
    "\n",
    "# Parameters for data segmentation\n",
    "WINDOW_SIZE = 1024  # Number of samples per segment (adjust as needed)\n",
    "STEP_SIZE = 256     # Step size for sliding window (adjust as needed)\n",
    "EVENT_WINDOW_LABEL = 1\n",
    "NO_EVENT_WINDOW_LABEL = 0\n",
    "\n",
    "# Bandpass filter parameters (adjust as needed)\n",
    "FREQ_MIN = 0.5  # Hz\n",
    "FREQ_MAX = 2.0  # Hz\n",
    "\n",
    "# Load data and labels\n",
    "for idx, row in catalog.iterrows():\n",
    "    filename = row['filename']\n",
    "    arrival_time_rel = row['time_rel(sec)']\n",
    "    # Load seismic data\n",
    "    data, sampling_rate, starttime = load_seismic_data(filename)\n",
    "    # Apply bandpass filter\n",
    "    data = bandpass(data, FREQ_MIN, FREQ_MAX, sampling_rate, corners=4, zerophase=True)\n",
    "    # Normalize data\n",
    "    data = (data - np.mean(data)) / np.std(data)\n",
    "    # Calculate event sample index\n",
    "    event_sample_idx = int(arrival_time_rel * sampling_rate)\n",
    "    # Slide a window over the data\n",
    "    num_segments = (len(data) - WINDOW_SIZE) // STEP_SIZE + 1\n",
    "    for i in range(num_segments):\n",
    "        start_idx = i * STEP_SIZE\n",
    "        end_idx = start_idx + WINDOW_SIZE\n",
    "        window_data = data[start_idx:end_idx]\n",
    "        # Check if the event is within this window\n",
    "        if event_sample_idx >= start_idx and event_sample_idx < end_idx:\n",
    "            label = EVENT_WINDOW_LABEL\n",
    "        else:\n",
    "            label = NO_EVENT_WINDOW_LABEL\n",
    "        # Append to lists\n",
    "        X.append(window_data)\n",
    "        y.append(label)\n",
    "\n",
    "# Convert lists to numpy arrays\n",
    "X = np.array(X)\n",
    "y = np.array(y)\n",
    "print(f'Total segments: {len(X)}')\n"
   ]
  },
  {
   "cell_type": "code",
   "execution_count": 10,
   "metadata": {},
   "outputs": [
    {
     "name": "stdout",
     "output_type": "stream",
     "text": [
      "486937\n",
      "572415\n"
     ]
    }
   ],
   "source": [
    "for idx, row in catalog.iterrows():\n",
    "    filename = row['filename']\n",
    "    arrival_time_rel = row['time_rel(sec)']\n",
    "    # Load seismic data\n",
    "    data, sampling_rate, starttime = load_seismic_data(filename)\n",
    "    # Apply bandpass filter\n",
    "    data = bandpass(data, FREQ_MIN, FREQ_MAX, sampling_rate, corners=4, zerophase=True)\n",
    "    # Normalize data\n",
    "    data = (data - np.mean(data)) / np.std(data)\n",
    "    # Calculate event sample index\n",
    "    event_sample_idx = int(arrival_time_rel * sampling_rate)\n",
    "    print(event_sample_idx)\n",
    "    print(len(data))\n",
    "    break"
   ]
  },
  {
   "cell_type": "code",
   "execution_count": 11,
   "metadata": {},
   "outputs": [
    {
     "name": "stdout",
     "output_type": "stream",
     "text": [
      "Class distribution before balancing: {0: 168073, 1: 304}\n",
      "Class distribution after balancing: {0: 168073, 1: 168073}\n"
     ]
    }
   ],
   "source": [
    "# Count the number of samples in each class\n",
    "unique, counts = np.unique(y, return_counts=True)\n",
    "print(f'Class distribution before balancing: {dict(zip(unique, counts))}')\n",
    "\n",
    "# Oversample the minority class\n",
    "ros = RandomOverSampler(random_state=42)\n",
    "X_resampled, y_resampled = ros.fit_resample(X.reshape(-1, WINDOW_SIZE), y)\n",
    "\n",
    "print(f'Class distribution after balancing: {dict(zip(*np.unique(y_resampled, return_counts=True)))}')\n",
    "\n",
    "# Reshape X for CNN input (samples, timesteps, channels)\n",
    "X_resampled = X_resampled[..., np.newaxis]\n"
   ]
  },
  {
   "cell_type": "code",
   "execution_count": 12,
   "metadata": {},
   "outputs": [
    {
     "name": "stdout",
     "output_type": "stream",
     "text": [
      "Training data shape: (268916, 1024, 1)\n",
      "Validation data shape: (67230, 1024, 1)\n"
     ]
    }
   ],
   "source": [
    "# Split data into training and validation sets\n",
    "X_train, X_val, y_train, y_val = train_test_split(\n",
    "    X_resampled, y_resampled, test_size=0.2, random_state=42, stratify=y_resampled\n",
    ")\n",
    "\n",
    "print(f'Training data shape: {X_train.shape}')\n",
    "print(f'Validation data shape: {X_val.shape}')\n"
   ]
  },
  {
   "cell_type": "code",
   "execution_count": 13,
   "metadata": {},
   "outputs": [
    {
     "name": "stdout",
     "output_type": "stream",
     "text": [
      "Model: \"model_1\"\n",
      "__________________________________________________________________________________________________\n",
      " Layer (type)                Output Shape                 Param #   Connected to                  \n",
      "==================================================================================================\n",
      " input_2 (InputLayer)        [(None, 1024, 1)]            0         []                            \n",
      "                                                                                                  \n",
      " max_pooling1d_2 (MaxPoolin  (None, 1024, 1)              0         ['input_2[0][0]']             \n",
      " g1D)                                                                                             \n",
      "                                                                                                  \n",
      " conv1d_8 (Conv1D)           (None, 1024, 32)             64        ['input_2[0][0]']             \n",
      "                                                                                                  \n",
      " conv1d_9 (Conv1D)           (None, 1024, 32)             128       ['input_2[0][0]']             \n",
      "                                                                                                  \n",
      " conv1d_10 (Conv1D)          (None, 1024, 32)             192       ['input_2[0][0]']             \n",
      "                                                                                                  \n",
      " conv1d_11 (Conv1D)          (None, 1024, 32)             64        ['max_pooling1d_2[0][0]']     \n",
      "                                                                                                  \n",
      " concatenate_2 (Concatenate  (None, 1024, 128)            0         ['conv1d_8[0][0]',            \n",
      " )                                                                   'conv1d_9[0][0]',            \n",
      "                                                                     'conv1d_10[0][0]',           \n",
      "                                                                     'conv1d_11[0][0]']           \n",
      "                                                                                                  \n",
      " max_pooling1d_3 (MaxPoolin  (None, 1024, 128)            0         ['concatenate_2[0][0]']       \n",
      " g1D)                                                                                             \n",
      "                                                                                                  \n",
      " conv1d_12 (Conv1D)          (None, 1024, 32)             4128      ['concatenate_2[0][0]']       \n",
      "                                                                                                  \n",
      " conv1d_13 (Conv1D)          (None, 1024, 32)             12320     ['concatenate_2[0][0]']       \n",
      "                                                                                                  \n",
      " conv1d_14 (Conv1D)          (None, 1024, 32)             20512     ['concatenate_2[0][0]']       \n",
      "                                                                                                  \n",
      " conv1d_15 (Conv1D)          (None, 1024, 32)             4128      ['max_pooling1d_3[0][0]']     \n",
      "                                                                                                  \n",
      " concatenate_3 (Concatenate  (None, 1024, 128)            0         ['conv1d_12[0][0]',           \n",
      " )                                                                   'conv1d_13[0][0]',           \n",
      "                                                                     'conv1d_14[0][0]',           \n",
      "                                                                     'conv1d_15[0][0]']           \n",
      "                                                                                                  \n",
      " global_average_pooling1d_1  (None, 128)                  0         ['concatenate_3[0][0]']       \n",
      "  (GlobalAveragePooling1D)                                                                        \n",
      "                                                                                                  \n",
      " dense_2 (Dense)             (None, 64)                   8256      ['global_average_pooling1d_1[0\n",
      "                                                                    ][0]']                        \n",
      "                                                                                                  \n",
      " dense_3 (Dense)             (None, 1)                    65        ['dense_2[0][0]']             \n",
      "                                                                                                  \n",
      "==================================================================================================\n",
      "Total params: 49857 (194.75 KB)\n",
      "Trainable params: 49857 (194.75 KB)\n",
      "Non-trainable params: 0 (0.00 Byte)\n",
      "__________________________________________________________________________________________________\n"
     ]
    }
   ],
   "source": [
    "from tensorflow.keras import models, layers, Input\n",
    "from tensorflow.keras.models import Model\n",
    "\n",
    "# Inception Module\n",
    "def inception_module(x):\n",
    "    branch1 = layers.Conv1D(32, 1, activation='relu', padding='same')(x)\n",
    "    \n",
    "    branch2 = layers.Conv1D(32, 3, activation='relu', padding='same')(x)\n",
    "    \n",
    "    branch3 = layers.Conv1D(32, 5, activation='relu', padding='same')(x)\n",
    "    \n",
    "    branch4 = layers.MaxPooling1D(3, strides=1, padding='same')(x)\n",
    "    branch4 = layers.Conv1D(32, 1, activation='relu', padding='same')(branch4)\n",
    "    \n",
    "    output = layers.concatenate([branch1, branch2, branch3, branch4], axis=-1)\n",
    "    return output\n",
    "\n",
    "# Input Layer\n",
    "inputs = Input(shape=(WINDOW_SIZE, 1))\n",
    "\n",
    "# Inception Modules\n",
    "x = inception_module(inputs)\n",
    "x = inception_module(x)\n",
    "\n",
    "# Global Pooling and Output Layer\n",
    "x = layers.GlobalAveragePooling1D()(x)\n",
    "x = layers.Dense(64, activation='relu')(x)\n",
    "outputs = layers.Dense(1, activation='sigmoid')(x)\n",
    "\n",
    "# Model Definition\n",
    "model = Model(inputs=inputs, outputs=outputs)\n",
    "\n",
    "model.summary()\n"
   ]
  },
  {
   "cell_type": "code",
   "execution_count": 14,
   "metadata": {},
   "outputs": [
    {
     "name": "stdout",
     "output_type": "stream",
     "text": [
      "Epoch 1/5\n",
      "4202/4202 [==============================] - ETA: 0s - loss: 0.6033 - accuracy: 0.6544"
     ]
    },
    {
     "ename": "MemoryError",
     "evalue": "Unable to allocate 525. MiB for an array with shape (67230, 1024, 1) and data type float64",
     "output_type": "error",
     "traceback": [
      "\u001b[1;31m---------------------------------------------------------------------------\u001b[0m",
      "\u001b[1;31mMemoryError\u001b[0m                               Traceback (most recent call last)",
      "Cell \u001b[1;32mIn[14], line 8\u001b[0m\n\u001b[0;32m      5\u001b[0m early_stopping \u001b[38;5;241m=\u001b[39m tf\u001b[38;5;241m.\u001b[39mkeras\u001b[38;5;241m.\u001b[39mcallbacks\u001b[38;5;241m.\u001b[39mEarlyStopping(monitor\u001b[38;5;241m=\u001b[39m\u001b[38;5;124m'\u001b[39m\u001b[38;5;124mval_loss\u001b[39m\u001b[38;5;124m'\u001b[39m, patience\u001b[38;5;241m=\u001b[39m\u001b[38;5;241m5\u001b[39m, restore_best_weights\u001b[38;5;241m=\u001b[39m\u001b[38;5;28;01mTrue\u001b[39;00m)\n\u001b[0;32m      7\u001b[0m \u001b[38;5;66;03m# Train the model\u001b[39;00m\n\u001b[1;32m----> 8\u001b[0m history \u001b[38;5;241m=\u001b[39m \u001b[43mmodel\u001b[49m\u001b[38;5;241;43m.\u001b[39;49m\u001b[43mfit\u001b[49m\u001b[43m(\u001b[49m\n\u001b[0;32m      9\u001b[0m \u001b[43m    \u001b[49m\u001b[43mX_train\u001b[49m\u001b[43m,\u001b[49m\u001b[43m \u001b[49m\u001b[43my_train\u001b[49m\u001b[43m,\u001b[49m\n\u001b[0;32m     10\u001b[0m \u001b[43m    \u001b[49m\u001b[43mepochs\u001b[49m\u001b[38;5;241;43m=\u001b[39;49m\u001b[38;5;241;43m5\u001b[39;49m\u001b[43m,\u001b[49m\n\u001b[0;32m     11\u001b[0m \u001b[43m    \u001b[49m\u001b[43mbatch_size\u001b[49m\u001b[38;5;241;43m=\u001b[39;49m\u001b[38;5;241;43m64\u001b[39;49m\u001b[43m,\u001b[49m\n\u001b[0;32m     12\u001b[0m \u001b[43m    \u001b[49m\u001b[43mvalidation_data\u001b[49m\u001b[38;5;241;43m=\u001b[39;49m\u001b[43m(\u001b[49m\u001b[43mX_val\u001b[49m\u001b[43m,\u001b[49m\u001b[43m \u001b[49m\u001b[43my_val\u001b[49m\u001b[43m)\u001b[49m\u001b[43m,\u001b[49m\n\u001b[0;32m     13\u001b[0m \u001b[43m    \u001b[49m\u001b[43mcallbacks\u001b[49m\u001b[38;5;241;43m=\u001b[39;49m\u001b[43m[\u001b[49m\u001b[43mearly_stopping\u001b[49m\u001b[43m]\u001b[49m\n\u001b[0;32m     14\u001b[0m \u001b[43m)\u001b[49m\n",
      "File \u001b[1;32mc:\\Users\\K-Gen\\AppData\\Local\\Programs\\Python\\Python39\\lib\\site-packages\\keras\\src\\utils\\traceback_utils.py:70\u001b[0m, in \u001b[0;36mfilter_traceback.<locals>.error_handler\u001b[1;34m(*args, **kwargs)\u001b[0m\n\u001b[0;32m     67\u001b[0m     filtered_tb \u001b[38;5;241m=\u001b[39m _process_traceback_frames(e\u001b[38;5;241m.\u001b[39m__traceback__)\n\u001b[0;32m     68\u001b[0m     \u001b[38;5;66;03m# To get the full stack trace, call:\u001b[39;00m\n\u001b[0;32m     69\u001b[0m     \u001b[38;5;66;03m# `tf.debugging.disable_traceback_filtering()`\u001b[39;00m\n\u001b[1;32m---> 70\u001b[0m     \u001b[38;5;28;01mraise\u001b[39;00m e\u001b[38;5;241m.\u001b[39mwith_traceback(filtered_tb) \u001b[38;5;28;01mfrom\u001b[39;00m \u001b[38;5;28;01mNone\u001b[39;00m\n\u001b[0;32m     71\u001b[0m \u001b[38;5;28;01mfinally\u001b[39;00m:\n\u001b[0;32m     72\u001b[0m     \u001b[38;5;28;01mdel\u001b[39;00m filtered_tb\n",
      "File \u001b[1;32mc:\\Users\\K-Gen\\AppData\\Local\\Programs\\Python\\Python39\\lib\\site-packages\\tensorflow\\python\\framework\\constant_op.py:91\u001b[0m, in \u001b[0;36mconvert_to_eager_tensor\u001b[1;34m(value, ctx, dtype)\u001b[0m\n\u001b[0;32m     71\u001b[0m \u001b[38;5;250m\u001b[39m\u001b[38;5;124;03m\"\"\"Converts the given `value` to an `EagerTensor`.\u001b[39;00m\n\u001b[0;32m     72\u001b[0m \n\u001b[0;32m     73\u001b[0m \u001b[38;5;124;03mNote that this function could return cached copies of created constants for\u001b[39;00m\n\u001b[1;32m   (...)\u001b[0m\n\u001b[0;32m     85\u001b[0m \u001b[38;5;124;03m  TypeError: if `dtype` is not compatible with the type of t.\u001b[39;00m\n\u001b[0;32m     86\u001b[0m \u001b[38;5;124;03m\"\"\"\u001b[39;00m\n\u001b[0;32m     87\u001b[0m \u001b[38;5;28;01mif\u001b[39;00m \u001b[38;5;28misinstance\u001b[39m(value, np\u001b[38;5;241m.\u001b[39mndarray):\n\u001b[0;32m     88\u001b[0m   \u001b[38;5;66;03m# Make a copy explicitly because the EagerTensor might share the underlying\u001b[39;00m\n\u001b[0;32m     89\u001b[0m   \u001b[38;5;66;03m# memory with the input array. Without this copy, users will be able to\u001b[39;00m\n\u001b[0;32m     90\u001b[0m   \u001b[38;5;66;03m# modify the EagerTensor after its creation by changing the input array.\u001b[39;00m\n\u001b[1;32m---> 91\u001b[0m   value \u001b[38;5;241m=\u001b[39m \u001b[43mvalue\u001b[49m\u001b[38;5;241;43m.\u001b[39;49m\u001b[43mcopy\u001b[49m\u001b[43m(\u001b[49m\u001b[43m)\u001b[49m\n\u001b[0;32m     92\u001b[0m \u001b[38;5;28;01mif\u001b[39;00m \u001b[38;5;28misinstance\u001b[39m(value, ops\u001b[38;5;241m.\u001b[39mEagerTensor):\n\u001b[0;32m     93\u001b[0m   \u001b[38;5;28;01mif\u001b[39;00m dtype \u001b[38;5;129;01mis\u001b[39;00m \u001b[38;5;129;01mnot\u001b[39;00m \u001b[38;5;28;01mNone\u001b[39;00m \u001b[38;5;129;01mand\u001b[39;00m value\u001b[38;5;241m.\u001b[39mdtype \u001b[38;5;241m!=\u001b[39m dtype:\n",
      "\u001b[1;31mMemoryError\u001b[0m: Unable to allocate 525. MiB for an array with shape (67230, 1024, 1) and data type float64"
     ]
    }
   ],
   "source": [
    "# Compile the model\n",
    "model.compile(optimizer='adam', loss='binary_crossentropy', metrics=['accuracy'])\n",
    "\n",
    "# Add callbacks\n",
    "early_stopping = tf.keras.callbacks.EarlyStopping(monitor='val_loss', patience=5, restore_best_weights=True)\n",
    "\n",
    "# Train the model\n",
    "history = model.fit(\n",
    "    X_train, y_train,\n",
    "    epochs=5,\n",
    "    batch_size=64,\n",
    "    validation_data=(X_val, y_val),\n",
    "    callbacks=[early_stopping]\n",
    ")\n"
   ]
  },
  {
   "cell_type": "code",
   "execution_count": 81,
   "metadata": {},
   "outputs": [
    {
     "data": {
      "image/png": "[encoded data removed]",
      "text/plain": [
       "<Figure size 1000x800 with 2 Axes>"
      ]
     },
     "metadata": {},
     "output_type": "display_data"
    }
   ],
   "source": [
    "# Plot training and validation accuracy and loss\n",
    "def plot_history(history):\n",
    "    fig, axs = plt.subplots(2, 1, figsize=(10, 8))\n",
    "    # Accuracy plot\n",
    "    axs[0].plot(history.history['accuracy'], label='Training Accuracy')\n",
    "    axs[0].plot(history.history['val_accuracy'], label='Validation Accuracy')\n",
    "    axs[0].set_title('Accuracy')\n",
    "    axs[0].legend()\n",
    "    # Loss plot\n",
    "    axs[1].plot(history.history['loss'], label='Training Loss')\n",
    "    axs[1].plot(history.history['val_loss'], label='Validation Loss')\n",
    "    axs[1].set_title('Loss')\n",
    "    axs[1].legend()\n",
    "    plt.tight_layout()\n",
    "    plt.show()\n",
    "\n",
    "plot_history(history)\n"
   ]
  },
  {
   "cell_type": "code",
   "execution_count": 82,
   "metadata": {},
   "outputs": [
    {
     "name": "stdout",
     "output_type": "stream",
     "text": [
      "2107/2107 [==============================] - 5s 2ms/step - loss: 0.0072 - accuracy: 0.9991\n",
      "Validation Accuracy: 99.91%\n",
      "2107/2107 [==============================] - 5s 2ms/step\n",
      "              precision    recall  f1-score   support\n",
      "\n",
      "           0       1.00      1.00      1.00     67346\n",
      "           1       0.00      0.00      0.00        61\n",
      "\n",
      "    accuracy                           1.00     67407\n",
      "   macro avg       0.50      0.50      0.50     67407\n",
      "weighted avg       1.00      1.00      1.00     67407\n",
      "\n",
      "Confusion Matrix:\n",
      "[[67346     0]\n",
      " [   61     0]]\n"
     ]
    },
    {
     "name": "stderr",
     "output_type": "stream",
     "text": [
      "c:\\Users\\K-Gen\\AppData\\Local\\Programs\\Python\\Python39\\lib\\site-packages\\sklearn\\metrics\\_classification.py:1497: UndefinedMetricWarning: Precision is ill-defined and being set to 0.0 in labels with no predicted samples. Use `zero_division` parameter to control this behavior.\n",
      "  _warn_prf(average, modifier, f\"{metric.capitalize()} is\", len(result))\n",
      "c:\\Users\\K-Gen\\AppData\\Local\\Programs\\Python\\Python39\\lib\\site-packages\\sklearn\\metrics\\_classification.py:1497: UndefinedMetricWarning: Precision is ill-defined and being set to 0.0 in labels with no predicted samples. Use `zero_division` parameter to control this behavior.\n",
      "  _warn_prf(average, modifier, f\"{metric.capitalize()} is\", len(result))\n",
      "c:\\Users\\K-Gen\\AppData\\Local\\Programs\\Python\\Python39\\lib\\site-packages\\sklearn\\metrics\\_classification.py:1497: UndefinedMetricWarning: Precision is ill-defined and being set to 0.0 in labels with no predicted samples. Use `zero_division` parameter to control this behavior.\n",
      "  _warn_prf(average, modifier, f\"{metric.capitalize()} is\", len(result))\n"
     ]
    }
   ],
   "source": [
    "# Evaluate on validation data\n",
    "val_loss, val_accuracy = model.evaluate(X_val, y_val)\n",
    "print(f'Validation Accuracy: {val_accuracy * 100:.2f}%')\n",
    "\n",
    "# Classification report\n",
    "y_pred_prob = model.predict(X_val)\n",
    "y_pred = (y_pred_prob > 0.5).astype(\"int32\").flatten()\n",
    "print(classification_report(y_val, y_pred))\n",
    "\n",
    "# Confusion matrix\n",
    "cm = confusion_matrix(y_val, y_pred)\n",
    "print('Confusion Matrix:')\n",
    "print(cm)\n"
   ]
  },
  {
   "cell_type": "code",
   "execution_count": 83,
   "metadata": {},
   "outputs": [
    {
     "name": "stdout",
     "output_type": "stream",
     "text": [
      "140/140 [==============================] - 0s 2ms/step\n",
      "140/140 [==============================] - 0s 2ms/step\n",
      "140/140 [==============================] - 0s 2ms/step\n",
      "140/140 [==============================] - 0s 2ms/step\n",
      "140/140 [==============================] - 0s 2ms/step\n",
      "140/140 [==============================] - 0s 2ms/step\n",
      "140/140 [==============================] - 0s 2ms/step\n",
      "140/140 [==============================] - 0s 2ms/step\n",
      "140/140 [==============================] - 0s 2ms/step\n",
      "140/140 [==============================] - 0s 2ms/step\n",
      "140/140 [==============================] - 0s 2ms/step\n",
      "140/140 [==============================] - 0s 2ms/step\n",
      "140/140 [==============================] - 0s 2ms/step\n",
      "140/140 [==============================] - 0s 2ms/step\n",
      "140/140 [==============================] - 0s 2ms/step\n",
      "140/140 [==============================] - 0s 2ms/step\n",
      "140/140 [==============================] - 0s 2ms/step\n",
      "140/140 [==============================] - 0s 2ms/step\n",
      "140/140 [==============================] - 0s 2ms/step\n",
      "140/140 [==============================] - 0s 2ms/step\n",
      "140/140 [==============================] - 0s 2ms/step\n",
      "133/133 [==============================] - 0s 2ms/step\n",
      "140/140 [==============================] - 0s 2ms/step\n",
      "140/140 [==============================] - 0s 2ms/step\n",
      "65/65 [==============================] - 0s 2ms/step\n",
      "140/140 [==============================] - 0s 2ms/step\n",
      "140/140 [==============================] - 0s 2ms/step\n",
      "140/140 [==============================] - 0s 2ms/step\n",
      "140/140 [==============================] - 0s 2ms/step\n",
      "140/140 [==============================] - 0s 2ms/step\n",
      "140/140 [==============================] - 0s 2ms/step\n",
      "140/140 [==============================] - 0s 2ms/step\n",
      "140/140 [==============================] - 0s 2ms/step\n",
      "140/140 [==============================] - 0s 3ms/step\n",
      "140/140 [==============================] - 0s 2ms/step\n",
      "140/140 [==============================] - 0s 2ms/step\n",
      "140/140 [==============================] - 0s 2ms/step\n",
      "140/140 [==============================] - 0s 2ms/step\n",
      "140/140 [==============================] - 0s 2ms/step\n",
      "140/140 [==============================] - 0s 2ms/step\n",
      "140/140 [==============================] - 0s 2ms/step\n",
      "140/140 [==============================] - 0s 2ms/step\n",
      "140/140 [==============================] - 0s 2ms/step\n",
      "140/140 [==============================] - 0s 2ms/step\n",
      "140/140 [==============================] - 0s 2ms/step\n",
      "117/117 [==============================] - 0s 2ms/step\n",
      "140/140 [==============================] - 0s 2ms/step\n",
      "140/140 [==============================] - 0s 2ms/step\n",
      "140/140 [==============================] - 0s 2ms/step\n",
      "139/139 [==============================] - 0s 2ms/step\n",
      "140/140 [==============================] - 0s 2ms/step\n",
      "140/140 [==============================] - 0s 2ms/step\n",
      "111/111 [==============================] - 0s 2ms/step\n",
      "140/140 [==============================] - 0s 2ms/step\n",
      "140/140 [==============================] - 0s 2ms/step\n",
      "140/140 [==============================] - 0s 2ms/step\n",
      "140/140 [==============================] - 0s 2ms/step\n",
      "140/140 [==============================] - 0s 2ms/step\n",
      "140/140 [==============================] - 0s 2ms/step\n",
      "140/140 [==============================] - 0s 2ms/step\n",
      "140/140 [==============================] - 0s 2ms/step\n",
      "140/140 [==============================] - 0s 2ms/step\n",
      "138/138 [==============================] - 0s 2ms/step\n",
      "140/140 [==============================] - 0s 2ms/step\n"
     ]
    }
   ],
   "source": [
    "# Function to process test data\n",
    "def process_test_data(test_filename, data_dir=TEST_DATA_DIR):\n",
    "    # Load data\n",
    "    data, sampling_rate, starttime = load_seismic_data(test_filename, data_dir)\n",
    "    # Apply bandpass filter\n",
    "    data = bandpass(data, FREQ_MIN, FREQ_MAX, sampling_rate, corners=4, zerophase=True)\n",
    "    # Normalize data\n",
    "    data = (data - np.mean(data)) / np.std(data)\n",
    "    # Segment data\n",
    "    segments = []\n",
    "    segment_times = []\n",
    "    num_segments = (len(data) - WINDOW_SIZE) // STEP_SIZE + 1\n",
    "    for i in range(num_segments):\n",
    "        start_idx = i * STEP_SIZE\n",
    "        end_idx = start_idx + WINDOW_SIZE\n",
    "        window_data = data[start_idx:end_idx]\n",
    "        segments.append(window_data)\n",
    "        # Calculate the midpoint time of the window\n",
    "        window_start_time = starttime + timedelta(seconds=start_idx / sampling_rate)\n",
    "        window_mid_time = window_start_time + timedelta(seconds=(WINDOW_SIZE / (2 * sampling_rate)))\n",
    "        segment_times.append(window_mid_time)\n",
    "    # Convert to numpy array and reshape\n",
    "    segments = np.array(segments)\n",
    "    segments = segments[..., np.newaxis]\n",
    "    return data, segments, segment_times, sampling_rate\n",
    "\n",
    "# List of test files\n",
    "test_files = [f.replace('.mseed', '') for f in os.listdir(TEST_DATA_DIR) if f.endswith('.mseed')]\n",
    "\n",
    "detections_list = []\n",
    "\n",
    "for test_filename in test_files:\n",
    "    data, segments, segment_times, sampling_rate = process_test_data(test_filename)\n",
    "    predictions = model.predict(segments)\n",
    "    predicted_labels = (predictions > 0.8).astype(\"int32\").flatten()\n",
    "    avg = abs(np.mean(data))\n",
    "    event_indices = np.where(predicted_labels == 1)[0]\n",
    "    \n",
    "    previous_event_time = None\n",
    "    previous_time_rel_sec = None\n",
    "    \n",
    "    for idx in event_indices:\n",
    "        event_time = segment_times[idx]\n",
    "        event_time_str = event_time.strftime('%Y-%m-%dT%H:%M:%S.%f')\n",
    "        time_rel_sec = (event_time - segment_times[0]).total_seconds()\n",
    "\n",
    "        dist_to_max = abs(data[int(time_rel_sec * sampling_rate)] - np.max(data))\n",
    "        dist_to_mean = abs(data[int(time_rel_sec * sampling_rate)] - np.mean(data))\n",
    "        \n",
    "        if previous_event_time is not None and (time_rel_sec - previous_time_rel_sec) < 1000:\n",
    "            avg_time_rel_sec = (previous_time_rel_sec + time_rel_sec) / 2\n",
    "            avg_event_time = previous_event_time + (event_time - previous_event_time) / 2\n",
    "            \n",
    "            detections_list[-1] = {\n",
    "                'filename': test_filename,\n",
    "                'time_abs(%Y-%m-%dT%H:%M:%S.%f)': avg_event_time.strftime('%Y-%m-%dT%H:%M:%S.%f'),\n",
    "                'time_rel(sec)': avg_time_rel_sec\n",
    "            }\n",
    "        else:\n",
    "                detections_list.append({\n",
    "                    'filename': test_filename,\n",
    "                    'time_abs(%Y-%m-%dT%H:%M:%S.%f)': event_time_str,\n",
    "                    'time_rel(sec)': time_rel_sec\n",
    "                })\n",
    "        \n",
    "        previous_event_time = event_time\n",
    "        previous_time_rel_sec = time_rel_sec\n",
    "\n",
    "\n",
    "\n",
    "# Convert the list of detections to a DataFrame\n",
    "detections = pd.DataFrame(detections_list)\n"
   ]
  },
  {
   "cell_type": "code",
   "execution_count": 84,
   "metadata": {},
   "outputs": [
    {
     "name": "stdout",
     "output_type": "stream",
     "text": [
      "Detections saved to seismic_event_detections.csv\n"
     ]
    }
   ],
   "source": [
    "# Save the detections to a CSV file\n",
    "detections.to_csv('S12_Grade_B_multi.csv', index=False)\n",
    "print('Detections saved to seismic_event_detections.csv')\n"
   ]
  }
 ],
 "metadata": {
  "kernelspec": {
   "display_name": "Python 3",
   "language": "python",
   "name": "python3"
  },
  "language_info": {
   "codemirror_mode": {
    "name": "ipython",
    "version": 3
   },
   "file_extension": ".py",
   "mimetype": "text/x-python",
   "name": "python",
   "nbconvert_exporter": "python",
   "pygments_lexer": "ipython3",
   "version": "3.9.4"
  }
 },
 "nbformat": 4,
 "nbformat_minor": 2
}
